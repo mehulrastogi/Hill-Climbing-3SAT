{
 "cells": [
  {
   "cell_type": "code",
   "execution_count": 1,
   "metadata": {},
   "outputs": [],
   "source": [
    "from walk_sat import walkSAT\n",
    "from generate_3SAT import CNF\n",
    "import sys\n",
    "import time"
   ]
  },
  {
   "cell_type": "code",
   "execution_count": 2,
   "metadata": {},
   "outputs": [
    {
     "data": {
      "text/plain": [
       "[-1, -2, -5]"
      ]
     },
     "execution_count": 2,
     "metadata": {},
     "output_type": "execute_result"
    }
   ],
   "source": [
    "CNF(5,5,3).clauses[0].lits"
   ]
  },
  {
   "cell_type": "code",
   "execution_count": 3,
   "metadata": {},
   "outputs": [
    {
     "name": "stdout",
     "output_type": "stream",
     "text": [
      "[[-1, -7, -8], [-3, -1, 6], [-5, 7, 8]]\n",
      "[0, -1, 2, -3, -4, 5, 6, -7, 8]\n",
      "[1, 1, 1]\n",
      "True\n"
     ]
    },
    {
     "data": {
      "text/plain": [
       "(True, [0, -1, 2, -3, -4, 5, 6, -7, 8], 0)"
      ]
     },
     "execution_count": 3,
     "metadata": {},
     "output_type": "execute_result"
    }
   ],
   "source": [
    "n = 8\n",
    "m = 3\n",
    "prob = 0.5\n",
    "max_flips = 1001\n",
    "\n",
    "clauses = [CNF(n,m,3).clauses[i].lits for i in range(m)]\n",
    "print(clauses)\n",
    "walkSAT(clauses,n,m,prob,max_flips)"
   ]
  },
  {
   "cell_type": "code",
   "execution_count": 4,
   "metadata": {},
   "outputs": [
    {
     "name": "stdout",
     "output_type": "stream",
     "text": [
      "[[-30, 27, 37], [20, -9, -4], [-16, -39, -50], [10, -29, -20], [36, 39, 10], [40, 48, 32], [-8, -5, 43], [37, -10, 8], [-5, -47, 38], [5, -3, 21], [-49, -39, -26], [-38, -4, -31], [46, -50, -34], [-6, 27, 21], [24, 30, 32], [49, -35, -27], [-37, -30, 6], [47, 12, -23], [48, 49, 4], [-1, 6, -13], [-11, -24, 36], [19, -46, 44], [41, 49, 6], [26, 32, -47], [21, 24, 14], [28, 34, -25], [12, 40, 36], [7, -13, 43], [34, 28, 38], [33, -39, -48], [-27, 5, 18], [6, 20, -8], [-27, 16, -3], [-1, -41, 49], [-46, 39, 2], [-36, -35, -7], [-6, -17, 2], [-17, 13, 49], [31, -22, -13], [-25, 43, 29], [8, 25, -13], [19, -40, -21], [34, -30, 41], [43, -16, -7], [26, -21, 6], [34, -42, 28], [-11, 14, -22], [-36, -5, -26], [-40, -24, -13], [-41, -40, -16], [41, 36, -25], [40, 11, 13], [-9, 32, 29], [-31, -43, 37], [-13, -48, -37], [16, -14, -47], [-30, -11, 28], [24, -48, 40], [-18, -39, 27], [-29, 31, -30], [-15, -19, -5], [45, -28, 11], [7, 2, -6], [-2, -36, 34], [45, -20, -23], [18, -39, -5], [-43, 3, 22], [-22, -43, 23], [32, 11, -5], [48, -28, -11], [-8, -10, 1], [20, 13, 12], [-27, 32, 49], [-22, 37, -25], [-38, -7, -2], [-7, -29, -41], [21, 22, -40], [-6, 50, 44], [40, -50, 31], [-42, 39, -9], [25, -39, 36], [17, -2, -24], [17, -13, -32], [4, -43, 47], [44, -5, -17], [-42, -28, 22], [-41, 30, -50], [-44, -37, -42], [10, 1, -37], [-25, -11, 8], [-37, -18, -25], [-16, 35, -6], [48, 44, 40], [-4, 36, 50], [29, -8, 14], [-41, -3, 29], [-15, -11, 34], [-28, 45, 40], [-4, 5, 12], [9, 27, -2], [6, 22, 38], [40, -16, 1], [22, 28, -5], [-10, 20, -46], [20, -50, 39], [-18, -6, 9], [-43, -7, 48], [12, 30, -15], [12, 47, 16], [20, 8, -7], [7, 1, -6], [36, 33, -48], [-1, -19, 15], [18, 6, 48], [32, 24, 47]]\n",
      "<module 'time' (built-in)>\n",
      "[0, 1, 2, -3, -4, -5, -6, -7, -8, 9, -10, -11, 12, -13, -14, -15, -16, 17, -18, -19, -20, -21, 22, 23, 24, -25, -26, -27, -28, -29, -30, -31, 32, 33, 34, -35, 36, 37, -38, 39, 40, -41, -42, -43, 44, -45, 46, 47, 48, 49, 50]\n"
     ]
    },
    {
     "data": {
      "text/plain": [
       "True"
      ]
     },
     "execution_count": 4,
     "metadata": {},
     "output_type": "execute_result"
    }
   ],
   "source": [
    "import runSat\n",
    "from runSat import run_sat,parse\n",
    "from generate_3SAT import CNF\n",
    "n = 50\n",
    "m = 115\n",
    "\n",
    "CNF(n,m,3).write(\"test.txt\" )\n",
    "\n",
    "# !python3 generate_3SAT.py $n $m 3 > cnf.txt\n",
    "\n",
    "clauses, n_vars, lit_clause = parse(\"./test.txt\")\n",
    "\n",
    "satisfiable,solution,time_iter = run_sat(clauses, n_vars, lit_clause)\n",
    "\n",
    "print(clauses)\n",
    "print(time)\n",
    "print(solution)\n",
    "satisfiable"
   ]
  },
  {
   "cell_type": "code",
   "execution_count": 7,
   "metadata": {
    "scrolled": true
   },
   "outputs": [
    {
     "name": "stdout",
     "output_type": "stream",
     "text": [
      "(True, [1, 2, -3, 4, -5, 6, 7, 8, 9, -10, -11, 12, 13, -14, 15, -16, 17, -18, -19, -20, 21, 22, 23, 24, 25, 26, -27, -28, -29, -30, 31, -32, -33, -34, -35, 36, -37, 38, 39, 40, -41, -42, -43, -44, -45, -46, 47, -48, 49, 50], 3.0)\n",
      "--------------------\n",
      "(True, [-1, 2, -3, 4, 5, -6, 7, 8, -9, -10, 11, 12, 13, -14, 15, -16, -17, -18, -19, -20, 21, 22, -23, 24, 25, 26, 27, -28, -29, -30, -31, -32, -33, 34, -35, -36, 37, 38, -39, -40, 41, 42, 43, 44, 45, -46, 47, -48, -49, 50], 3.02)\n",
      "--------------------\n",
      "(True, [1, 2, 3, 4, -5, 6, 7, -8, 9, -10, 11, 12, -13, -14, 15, -16, 17, -18, 19, 20, 21, -22, -23, -24, -25, -26, 27, -28, -29, -30, -31, 32, 33, 34, -35, -36, -37, 38, -39, 40, -41, 42, 43, 44, 45, -46, 47, 48, -49, 50], 3.04)\n",
      "--------------------\n",
      "(True, [-1, 2, -3, -4, 5, -6, -7, -8, 9, 10, 11, 12, -13, 14, -15, 16, -17, -18, -19, 20, 21, -22, 23, 24, -25, -26, 27, 28, -29, 30, 31, -32, 33, -34, -35, -36, 37, 38, 39, 40, 41, -42, 43, -44, 45, -46, -47, -48, 49, -50], 3.06)\n",
      "--------------------\n",
      "(True, [-1, 2, 3, 4, -5, -6, 7, 8, 9, 10, 11, 12, 13, 14, -15, -16, 17, -18, -19, -20, -21, -22, 23, 24, -25, 26, -27, 28, -29, -30, -31, -32, 33, -34, -35, -36, -37, 38, -39, 40, -41, -42, 43, -44, 45, 46, -47, -48, 49, 50], 3.08)\n",
      "--------------------\n",
      "(True, [1, -2, -3, 4, 5, 6, -7, 8, 9, 10, 11, -12, 13, -14, 15, -16, 17, -18, -19, -20, -21, -22, -23, 24, -25, -26, 27, 28, 29, -30, -31, -32, -33, 34, 35, 36, -37, 38, 39, -40, 41, 42, 43, -44, -45, 46, -47, -48, -49, -50], 3.1)\n",
      "--------------------\n",
      "(True, [1, 2, 3, -4, 5, 6, 7, 8, 9, 10, -11, -12, 13, -14, 15, -16, 17, -18, -19, 20, -21, -22, 23, -24, -25, -26, -27, 28, -29, -30, 31, 32, 33, -34, 35, 36, -37, -38, 39, -40, -41, -42, -43, -44, -45, 46, -47, -48, -49, -50], 3.12)\n",
      "--------------------\n",
      "(True, [-1, -2, 3, 4, -5, -6, -7, -8, 9, -10, -11, -12, 13, 14, 15, 16, 17, 18, -19, 20, 21, 22, -23, 24, 25, -26, -27, 28, -29, 30, -31, -32, -33, -34, 35, -36, 37, -38, -39, -40, 41, 42, -43, -44, -45, -46, -47, 48, -49, -50], 3.14)\n",
      "--------------------\n",
      "(True, [-1, 2, 3, 4, -5, 6, -7, 8, -9, 10, -11, 12, -13, 14, -15, 16, -17, -18, -19, 20, 21, -22, -23, 24, 25, -26, -27, -28, -29, 30, 31, -32, -33, -34, 35, 36, 37, -38, 39, 40, 41, 42, -43, -44, -45, -46, -47, -48, -49, -50], 3.16)\n",
      "--------------------\n",
      "(True, [-1, -2, -3, -4, 5, -6, -7, 8, -9, -10, 11, -12, 13, 14, -15, -16, -17, -18, 19, -20, -21, 22, -23, -24, -25, 26, -27, -28, -29, -30, -31, -32, 33, -34, -35, -36, -37, -38, -39, 40, 41, -42, 43, -44, 45, -46, 47, 48, 49, -50], 3.18)\n",
      "--------------------\n",
      "(True, [-1, -2, 3, 4, 5, -6, -7, -8, -9, -10, -11, -12, -13, 14, 15, -16, -17, 18, -19, -20, 21, 22, -23, -24, 25, -26, 27, -28, 29, 30, 31, -32, -33, -34, -35, -36, 37, -38, 39, 40, 41, -42, 43, 44, -45, 46, 47, -48, -49, 50], 3.2)\n",
      "--------------------\n",
      "(True, [-1, -2, -3, -4, 5, 6, -7, 8, 9, -10, -11, -12, 13, -14, -15, -16, 17, 18, -19, -20, 21, 22, -23, 24, -25, 26, -27, -28, 29, 30, -31, -32, -33, -34, -35, 36, 37, 38, -39, -40, -41, -42, 43, -44, -45, -46, -47, 48, -49, -50], 3.22)\n",
      "--------------------\n",
      "(True, [-1, 2, 3, -4, 5, -6, -7, 8, -9, -10, 11, 12, 13, -14, 15, 16, -17, -18, 19, -20, -21, 22, 23, -24, 25, -26, -27, 28, 29, 30, -31, 32, -33, -34, 35, -36, 37, -38, 39, 40, 41, 42, -43, 44, -45, 46, 47, 48, 49, 50], 3.24)\n",
      "--------------------\n",
      "(True, [-1, -2, 3, -4, -5, -6, 7, -8, -9, 10, -11, -12, -13, 14, -15, -16, -17, 18, 19, -20, 21, 22, -23, 24, 25, -26, -27, 28, 29, -30, -31, 32, -33, -34, 35, -36, -37, 38, -39, 40, -41, 42, 43, 44, -45, -46, 47, 48, -49, -50], 3.26)\n",
      "--------------------\n",
      "(True, [-1, -2, -3, 4, -5, 6, 7, -8, -9, -10, -11, -12, -13, 14, -15, 16, 17, 18, -19, 20, 21, 22, 23, -24, 25, 26, -27, 28, -29, 30, 31, 32, 33, 34, -35, -36, -37, 38, 39, 40, -41, 42, -43, -44, 45, 46, 47, -48, 49, 50], 3.28)\n",
      "--------------------\n",
      "(True, [-1, -2, 3, 4, 5, 6, 7, -8, -9, 10, 11, 12, 13, 14, -15, -16, -17, 18, 19, 20, -21, -22, -23, 24, -25, 26, -27, 28, -29, -30, -31, -32, 33, 34, -35, -36, 37, 38, 39, 40, -41, 42, -43, -44, -45, 46, 47, 48, -49, 50], 3.3)\n",
      "--------------------\n",
      "(True, [-1, -2, 3, 4, 5, -6, 7, 8, 9, 10, -11, -12, -13, -14, 15, 16, 17, 18, -19, 20, -21, -22, -23, 24, -25, -26, -27, 28, -29, -30, -31, -32, -33, 34, 35, 36, 37, 38, -39, 40, -41, 42, -43, -44, 45, -46, -47, 48, -49, 50], 3.32)\n",
      "--------------------\n",
      "(True, [1, 2, -3, -4, 5, 6, 7, -8, -9, -10, -11, 12, 13, -14, -15, 16, 17, -18, -19, 20, -21, -22, 23, -24, 25, 26, 27, 28, 29, -30, -31, 32, 33, -34, -35, -36, -37, -38, 39, 40, -41, 42, 43, -44, 45, 46, -47, 48, 49, 50], 3.34)\n",
      "--------------------\n",
      "(True, [-1, -2, -3, 4, 5, 6, 7, -8, 9, 10, -11, -12, 13, 14, -15, -16, -17, 18, -19, -20, -21, 22, 23, -24, -25, 26, 27, 28, -29, -30, -31, -32, 33, -34, -35, 36, 37, 38, 39, -40, 41, 42, 43, 44, 45, 46, 47, 48, -49, -50], 3.36)\n",
      "--------------------\n",
      "(True, [-1, 2, 3, -4, -5, 6, 7, 8, -9, 10, -11, -12, -13, 14, 15, 16, 17, -18, -19, 20, -21, 22, 23, -24, 25, -26, 27, -28, -29, 30, -31, -32, 33, -34, -35, 36, 37, -38, -39, -40, -41, 42, 43, -44, 45, -46, -47, 48, -49, 50], 3.38)\n",
      "--------------------\n",
      "(True, [-1, -2, 3, 4, 5, 6, -7, -8, -9, 10, -11, 12, -13, -14, -15, 16, -17, 18, 19, 20, -21, -22, -23, -24, 25, -26, 27, -28, -29, 30, -31, -32, -33, 34, 35, 36, 37, -38, 39, 40, -41, 42, -43, 44, 45, -46, 47, -48, -49, 50], 3.4)\n",
      "--------------------\n",
      "(True, [-1, -2, 3, 4, -5, -6, 7, 8, 9, 10, 11, -12, 13, -14, -15, 16, 17, -18, -19, 20, 21, 22, 23, 24, 25, 26, -27, 28, 29, 30, 31, 32, -33, 34, 35, 36, 37, -38, -39, -40, -41, 42, -43, -44, 45, 46, 47, -48, -49, 50], 3.42)\n",
      "--------------------\n",
      "(True, [-1, -2, 3, 4, 5, 6, -7, -8, 9, -10, 11, 12, 13, -14, 15, 16, -17, -18, -19, 20, -21, -22, -23, -24, 25, 26, 27, -28, 29, -30, 31, 32, 33, -34, 35, 36, 37, -38, 39, -40, 41, 42, 43, -44, 45, -46, 47, 48, -49, 50], 3.44)\n",
      "--------------------\n",
      "(True, [1, 2, 3, 4, -5, -6, 7, -8, 9, 10, -11, -12, 13, 14, -15, 16, 17, 18, -19, 20, -21, 22, 23, -24, -25, -26, -27, -28, 29, 30, -31, 32, 33, -34, -35, -36, 37, 38, -39, -40, 41, 42, -43, 44, -45, -46, -47, -48, 49, -50], 3.46)\n",
      "--------------------\n",
      "(True, [1, -2, -3, 4, 5, 6, -7, 8, 9, 10, -11, -12, 13, -14, -15, -16, 17, 18, -19, -20, 21, -22, -23, -24, 25, 26, 27, 28, 29, 30, -31, -32, -33, -34, 35, 36, 37, 38, 39, -40, 41, -42, 43, 44, 45, 46, -47, -48, -49, -50], 3.48)\n",
      "--------------------\n",
      "(True, [-1, -2, -3, -4, 5, -6, 7, 8, -9, 10, 11, -12, 13, -14, 15, 16, 17, 18, -19, -20, 21, 22, 23, 24, 25, -26, 27, 28, -29, 30, 31, -32, 33, 34, -35, -36, 37, 38, 39, 40, -41, -42, 43, 44, 45, 46, 47, -48, 49, 50], 3.5)\n",
      "--------------------\n",
      "(True, [-1, -2, 3, -4, 5, -6, -7, 8, 9, -10, 11, -12, 13, 14, 15, -16, -17, 18, -19, -20, -21, -22, -23, -24, 25, 26, 27, -28, 29, -30, -31, 32, 33, 34, 35, -36, -37, -38, 39, -40, -41, -42, 43, 44, -45, -46, -47, 48, 49, -50], 3.52)\n",
      "--------------------\n",
      "(True, [1, -2, 3, -4, -5, 6, 7, -8, -9, -10, 11, -12, 13, 14, -15, -16, 17, -18, -19, 20, -21, -22, 23, 24, -25, 26, 27, 28, 29, -30, -31, -32, -33, 34, 35, -36, 37, -38, -39, -40, -41, 42, -43, 44, -45, 46, 47, 48, 49, 50], 3.54)\n",
      "--------------------\n",
      "(True, [-1, -2, -3, -4, -5, -6, -7, -8, -9, -10, 11, 12, 13, -14, 15, -16, -17, -18, 19, -20, 21, -22, 23, 24, 25, 26, -27, -28, -29, -30, -31, -32, -33, -34, 35, -36, 37, 38, -39, -40, 41, 42, -43, -44, -45, -46, 47, 48, -49, 50], 3.56)\n",
      "--------------------\n",
      "(True, [-1, -2, 3, -4, 5, -6, 7, 8, 9, 10, 11, -12, 13, -14, -15, -16, -17, 18, -19, -20, 21, -22, 23, 24, -25, 26, 27, 28, -29, 30, 31, 32, 33, 34, 35, -36, 37, -38, 39, 40, -41, -42, -43, 44, 45, 46, 47, -48, 49, 50], 3.58)\n",
      "--------------------\n",
      "(True, [1, -2, -3, -4, 5, -6, 7, -8, -9, -10, 11, 12, -13, 14, 15, -16, -17, -18, -19, -20, -21, -22, 23, -24, -25, 26, -27, -28, 29, 30, 31, -32, -33, 34, 35, -36, 37, 38, -39, -40, -41, 42, 43, -44, 45, -46, -47, 48, -49, 50], 3.6)\n",
      "--------------------\n",
      "(True, [-1, 2, 3, -4, -5, 6, -7, 8, -9, 10, 11, 12, -13, 14, 15, -16, 17, -18, 19, -20, 21, 22, -23, 24, -25, -26, 27, -28, 29, 30, -31, -32, 33, 34, 35, -36, -37, -38, 39, 40, 41, 42, 43, -44, -45, 46, -47, 48, 49, -50], 3.62)\n",
      "--------------------\n",
      "--------------------\n",
      "(True, [-1, 2, -3, -4, 5, 6, 7, -8, 9, 10, 11, -12, 13, -14, -15, -16, 17, 18, -19, 20, -21, -22, 23, 24, 25, 26, -27, 28, 29, -30, 31, 32, 33, 34, 35, -36, -37, 38, 39, -40, -41, 42, -43, 44, 45, 46, 47, 48, 49, -50], 3.66)\n",
      "--------------------\n",
      "(True, [-1, -2, 3, 4, -5, 6, -7, 8, 9, -10, 11, 12, -13, 14, -15, -16, 17, -18, 19, -20, -21, -22, 23, 24, 25, -26, 27, -28, 29, -30, 31, 32, -33, -34, -35, 36, 37, 38, 39, -40, -41, -42, -43, 44, -45, 46, 47, 48, 49, -50], 3.68)\n",
      "--------------------\n",
      "(True, [1, -2, 3, -4, -5, 6, 7, 8, -9, 10, -11, 12, 13, -14, -15, 16, -17, 18, 19, -20, -21, -22, 23, -24, -25, 26, 27, 28, -29, -30, 31, -32, 33, -34, 35, 36, 37, 38, -39, -40, 41, 42, 43, 44, 45, 46, -47, -48, 49, -50], 3.7)\n",
      "--------------------\n",
      "(True, [1, -2, 3, 4, 5, -6, 7, 8, 9, -10, -11, -12, -13, 14, -15, 16, -17, -18, -19, -20, 21, 22, 23, -24, 25, -26, 27, 28, 29, -30, -31, -32, 33, 34, 35, 36, -37, -38, 39, 40, 41, 42, 43, -44, -45, 46, 47, 48, 49, 50], 3.72)\n",
      "--------------------\n",
      "(True, [1, -2, 3, -4, 5, 6, -7, 8, 9, -10, -11, -12, 13, 14, -15, 16, 17, -18, 19, 20, 21, -22, 23, -24, -25, -26, 27, 28, -29, -30, -31, 32, 33, -34, 35, 36, -37, 38, -39, -40, 41, 42, 43, 44, -45, 46, -47, 48, -49, -50], 3.74)\n",
      "--------------------\n",
      "(True, [-1, -2, 3, 4, 5, -6, -7, -8, 9, 10, 11, -12, 13, 14, 15, -16, 17, 18, 19, 20, 21, -22, 23, -24, 25, -26, -27, -28, -29, -30, -31, -32, 33, 34, 35, 36, 37, -38, -39, 40, -41, 42, -43, -44, 45, 46, 47, 48, 49, -50], 3.76)\n",
      "--------------------\n",
      "(True, [1, 2, -3, 4, -5, -6, -7, -8, -9, 10, 11, -12, -13, -14, -15, 16, -17, -18, 19, -20, -21, 22, -23, -24, -25, 26, 27, -28, -29, -30, 31, -32, 33, 34, -35, -36, -37, -38, 39, -40, -41, -42, -43, 44, 45, 46, -47, 48, -49, 50], 3.78)\n",
      "--------------------\n"
     ]
    },
    {
     "name": "stdout",
     "output_type": "stream",
     "text": [
      "--------------------\n",
      "--------------------\n",
      "(True, [-1, 2, -3, -4, -5, 6, 7, -8, 9, -10, -11, -12, -13, 14, -15, 16, -17, -18, 19, -20, -21, -22, 23, -24, -25, 26, 27, -28, 29, -30, -31, 32, -33, 34, 35, 36, -37, -38, 39, -40, -41, 42, 43, -44, -45, 46, 47, -48, 49, -50], 3.84)\n",
      "--------------------\n",
      "--------------------\n",
      "--------------------\n",
      "(True, [1, -2, 3, 4, 5, 6, -7, -8, 9, -10, -11, 12, -13, -14, 15, 16, 17, 18, -19, -20, -21, -22, 23, -24, 25, 26, -27, 28, 29, 30, 31, 32, 33, -34, 35, -36, -37, -38, 39, 40, -41, 42, -43, -44, 45, 46, -47, -48, 49, -50], 3.9)\n",
      "--------------------\n",
      "--------------------\n",
      "(True, [1, -2, -3, 4, 5, -6, -7, -8, 9, 10, -11, -12, -13, -14, -15, 16, -17, -18, 19, 20, -21, -22, -23, -24, -25, 26, 27, 28, 29, 30, 31, 32, -33, 34, -35, 36, 37, -38, 39, 40, 41, -42, 43, -44, -45, 46, 47, -48, 49, -50], 3.94)\n",
      "--------------------\n",
      "(True, [-1, 2, 3, -4, 5, -6, 7, -8, 9, -10, 11, -12, 13, -14, -15, 16, -17, -18, -19, 20, -21, -22, -23, 24, -25, -26, -27, 28, -29, -30, 31, -32, -33, -34, -35, -36, -37, -38, 39, 40, 41, 42, 43, 44, -45, 46, 47, -48, 49, -50], 3.96)\n",
      "--------------------\n",
      "(True, [-1, 2, 3, -4, 5, 6, 7, -8, 9, -10, -11, -12, 13, 14, 15, 16, 17, 18, 19, 20, -21, 22, 23, -24, 25, 26, -27, -28, -29, 30, -31, -32, -33, 34, 35, 36, -37, 38, -39, 40, -41, -42, 43, 44, -45, -46, -47, -48, -49, 50], 3.98)\n",
      "--------------------\n",
      "--------------------\n",
      "--------------------\n",
      "--------------------\n",
      "--------------------\n",
      "--------------------\n",
      "--------------------\n",
      "--------------------\n",
      "(True, [-1, -2, 3, -4, -5, 6, 7, -8, 9, -10, 11, 12, -13, -14, -15, 16, 17, -18, 19, -20, -21, -22, -23, -24, -25, 26, -27, 28, -29, -30, 31, 32, 33, 34, 35, 36, 37, 38, -39, -40, 41, 42, 43, -44, -45, 46, 47, -48, 49, -50], 4.14)\n",
      "--------------------\n",
      "--------------------\n",
      "(True, [-1, -2, 3, -4, -5, -6, 7, -8, -9, -10, 11, 12, 13, -14, -15, 16, 17, 18, 19, -20, -21, 22, 23, -24, 25, -26, 27, -28, 29, 30, -31, -32, 33, -34, -35, -36, -37, 38, 39, 40, 41, 42, -43, -44, 45, 46, -47, 48, -49, -50], 4.18)\n",
      "--------------------\n",
      "--------------------\n",
      "--------------------\n",
      "(True, [1, -2, 3, 4, -5, 6, 7, 8, -9, 10, 11, -12, -13, 14, 15, -16, 17, -18, 19, -20, 21, -22, 23, 24, 25, 26, -27, -28, 29, -30, -31, -32, -33, -34, 35, 36, -37, -38, -39, -40, -41, -42, -43, 44, -45, 46, 47, -48, -49, 50], 4.24)\n",
      "--------------------\n",
      "--------------------\n",
      "(True, [-1, -2, 3, -4, 5, 6, -7, -8, 9, -10, -11, 12, -13, -14, -15, -16, 17, 18, -19, -20, -21, -22, -23, -24, 25, -26, 27, -28, -29, 30, 31, -32, 33, 34, 35, -36, -37, -38, 39, 40, -41, -42, 43, 44, 45, -46, -47, -48, 49, 50], 4.28)\n",
      "--------------------\n",
      "--------------------\n",
      "--------------------\n",
      "--------------------\n",
      "--------------------\n",
      "(True, [-1, -2, 3, -4, 5, -6, 7, 8, -9, -10, 11, -12, -13, -14, 15, 16, -17, -18, 19, 20, 21, -22, -23, -24, -25, 26, 27, 28, -29, -30, -31, 32, 33, -34, -35, 36, 37, 38, 39, -40, -41, 42, -43, -44, 45, 46, -47, 48, -49, -50], 4.38)\n",
      "--------------------\n",
      "--------------------\n",
      "--------------------\n",
      "--------------------\n",
      "--------------------\n",
      "(True, [1, 2, 3, -4, 5, 6, 7, -8, -9, 10, -11, 12, -13, -14, -15, -16, -17, 18, -19, 20, -21, -22, -23, -24, -25, -26, -27, -28, -29, -30, -31, 32, 33, -34, 35, 36, -37, 38, -39, -40, 41, 42, 43, -44, 45, -46, -47, -48, 49, 50], 4.48)\n",
      "--------------------\n",
      "--------------------\n",
      "--------------------\n",
      "--------------------\n",
      "--------------------\n",
      "--------------------\n",
      "--------------------\n",
      "--------------------\n",
      "--------------------\n",
      "(True, [1, -2, -3, -4, 5, -6, -7, -8, 9, 10, 11, 12, -13, 14, -15, -16, -17, -18, 19, -20, 21, -22, 23, 24, -25, 26, 27, -28, 29, 30, 31, 32, -33, -34, 35, -36, 37, 38, -39, -40, 41, -42, 43, 44, -45, 46, -47, -48, -49, -50], 4.66)\n",
      "--------------------\n",
      "--------------------\n",
      "--------------------\n",
      "--------------------\n",
      "--------------------\n",
      "--------------------\n",
      "--------------------\n",
      "--------------------\n",
      "--------------------\n",
      "--------------------\n",
      "--------------------\n",
      "--------------------\n",
      "--------------------\n",
      "--------------------\n",
      "--------------------\n",
      "--------------------\n",
      "--------------------\n",
      "--------------------\n",
      "[27, 72, 39, 36, 36, 80, 65, 36, 105, 19, 48, 24, 92, 40, 19, 50, 62, 81, 120, 28, 33, 123, 89, 44, 14, 60, 83, 44, 17, 154, 162, 30, 41, 98, 64, 64, 46, 143, 21, 44, 120, 41, 156, 144, 57, 84, 199, 86, 58, 60, 75]\n"
     ]
    }
   ],
   "source": [
    "# FIRST N\n",
    "from runSat import run_sat,parse\n",
    "n = 50\n",
    "prob = 0.5\n",
    "time_list =[]\n",
    "real_time_list = []\n",
    "m_list = []\n",
    "\n",
    "for m in range(3*n , 5*n +1 ):\n",
    "    CNF(n,m,3).write(\"test.txt\" )\n",
    "    start = time.time()\n",
    "    clauses, n_vars, lit_clause = parse(\"./test.txt\")\n",
    "    satisfiable,solution,iter_time = run_sat(clauses, n_vars, lit_clause)\n",
    "    end = time.time()\n",
    "    \n",
    "    \n",
    "    \n",
    "    iter_real_time = end - start\n",
    "    if satisfiable:\n",
    "        solution = solution[1:]\n",
    "        print(satisfiable,solution,(m/float(n)))\n",
    "        time_list.append(iter_time)\n",
    "        real_time_list.append(iter_real_time)\n",
    "        m_list.append(m/float(n))\n",
    "    print(\"-\"*20)\n",
    "\n",
    "print(time_list)"
   ]
  },
  {
   "cell_type": "code",
   "execution_count": 8,
   "metadata": {},
   "outputs": [],
   "source": [
    "import matplotlib.pyplot as plt\n",
    "\n"
   ]
  },
  {
   "cell_type": "code",
   "execution_count": 9,
   "metadata": {},
   "outputs": [
    {
     "data": {
      "image/png": "[encoded data removed]",
      "text/plain": [
       "<Figure size 432x288 with 1 Axes>"
      ]
     },
     "metadata": {
      "needs_background": "light"
     },
     "output_type": "display_data"
    }
   ],
   "source": [
    "plt.plot(m_list , time_list)\n",
    "plt.show()"
   ]
  },
  {
   "cell_type": "code",
   "execution_count": 10,
   "metadata": {},
   "outputs": [
    {
     "data": {
      "image/png": "[encoded data removed]",
      "text/plain": [
       "<Figure size 432x288 with 1 Axes>"
      ]
     },
     "metadata": {
      "needs_background": "light"
     },
     "output_type": "display_data"
    }
   ],
   "source": [
    "plt.plot(m_list , real_time_list)\n",
    "plt.show()"
   ]
  },
  {
   "cell_type": "code",
   "execution_count": null,
   "metadata": {
    "scrolled": true
   },
   "outputs": [
    {
     "name": "stdout",
     "output_type": "stream",
     "text": [
      "('SIMULATING FOR N=', 20)\n"
     ]
    }
   ],
   "source": [
    "import runSat\n",
    "from runSat import run_sat,parse\n",
    "from generate_3SAT import CNF\n",
    "import time\n",
    "import numpy as np\n",
    "import matplotlib.pyplot as plt\n",
    "%matplotlib inline\n",
    "\n",
    "master_m_n = []\n",
    "runs_per_params = 100000\n",
    "max_flips = 100000\n",
    "\n",
    "for i in range(20,100,10):\n",
    "    print(\"SIMULATING FOR N=\",i)\n",
    "    n = i\n",
    "    time_list =[]\n",
    "    real_time_list = []\n",
    "    m_list = []\n",
    "\n",
    "    for m in range(3*n , 5*n +1 ):\n",
    "        avg_iter_time_list = []\n",
    "        avg_iter_real_time_list = []\n",
    "        for i in range(runs_per_params):\n",
    "            \n",
    "            CNF(n,m,3).write(\"test.txt\" )\n",
    "            start = time.time()\n",
    "            clauses, n_vars, lit_clause = parse(\"./test.txt\")\n",
    "            satisfiable,solution,iter_time = run_sat(clauses, n_vars, lit_clause,max_flips)\n",
    "            #print(satisfiable)\n",
    "            end = time.time()\n",
    "            iter_real_time = end - start\n",
    "            if(satisfiable|True):\n",
    "                avg_iter_time_list.append(iter_time)\n",
    "                #print(iter_time)\n",
    "                avg_iter_real_time_list.append(iter_real_time)\n",
    "                #solution = solution[1:]\n",
    "        \n",
    "        \n",
    "        \n",
    "        if len(avg_iter_time_list)!=0:\n",
    "            #print(\"length \",len(avg_iter_time_list),solution)\n",
    "            avg_iter_time = np.median(np.asarray(avg_iter_time_list))#sum(avg_iter_time_list) / (len(avg_iter_time_list))\n",
    "            avg_iter_real_time = np.median(np.asarray(avg_iter_real_time_list))#sum(avg_iter_real_time_list) / (len(avg_iter_real_time_list))\n",
    "            \n",
    "            #print(satisfiable,solution,(m/float(n)))\n",
    "            time_list.append(avg_iter_time)\n",
    "            real_time_list.append(avg_iter_real_time)\n",
    "            m_list.append(m/float(n))\n",
    "            \n",
    "        else:\n",
    "            time_list.append(avg_iter_time)\n",
    "            real_time_list.append(avg_iter_real_time)\n",
    "            m_list.append(m/float(n))\n",
    "            \n",
    "    \n",
    "    \n",
    "    \n",
    "    plt.plot(m_list , time_list)\n",
    "    plt.xlabel(\"m/n\")\n",
    "    plt.ylabel(\"Iterations to find Satifiable\")\n",
    "    plt.show()\n",
    "    \n",
    "    \n",
    "#     plt.plot(m_list , real_time_list)\n",
    "#     plt.xlabel(\"m/n\")\n",
    "#     plt.ylabel(\"Real time to find satifiable\")\n",
    "#     plt.show()\n",
    "    print(\"-\"*20)\n",
    "        \n",
    "        \n",
    "\n",
    "    "
   ]
  },
  {
   "cell_type": "code",
   "execution_count": 5,
   "metadata": {},
   "outputs": [],
   "source": [
    "plt.show()"
   ]
  },
  {
   "cell_type": "code",
   "execution_count": null,
   "metadata": {},
   "outputs": [],
   "source": []
  }
 ],
 "metadata": {
  "kernelspec": {
   "display_name": "Python 3",
   "language": "python",
   "name": "python3"
  },
  "language_info": {
   "codemirror_mode": {
    "name": "ipython",
    "version": 2
   },
   "file_extension": ".py",
   "mimetype": "text/x-python",
   "name": "python",
   "nbconvert_exporter": "python",
   "pygments_lexer": "ipython2",
   "version": "2.7.12"
  }
 },
 "nbformat": 4,
 "nbformat_minor": 2
}
